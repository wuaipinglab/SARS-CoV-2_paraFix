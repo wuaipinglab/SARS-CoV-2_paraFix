{
 "cells": [
  {
   "cell_type": "code",
   "execution_count": 1,
   "id": "a132fdf5",
   "metadata": {},
   "outputs": [],
   "source": [
    "import os\n",
    "import json\n",
    "\n",
    "import pandas as pd\n",
    "from matplotlib import pyplot as plt\n",
    "from matplotlib_venn import venn2\n",
    "\n",
    "PROTEIN_NAMES = (\"Spike\", \"N\")\n",
    "\n",
    "HYPHY_DIR = \"output/nextstrain_hyphy_results/\"\n",
    "HYPHY_RES_FILE = \"output/nextstrain_hyphy_results.csv\"\n",
    "HYPHY_DIFF_FILE = \"output/fubar_meme_diff.csv\"\n",
    "\n",
    "HYPHY_DIFF_VENN_PLOT = \"plots/hyphy_diff.pdf\"\n"
   ]
  },
  {
   "cell_type": "code",
   "execution_count": 2,
   "id": "c25b8113",
   "metadata": {},
   "outputs": [],
   "source": [
    "res = []\n",
    "\n",
    "for fn in os.listdir(HYPHY_DIR):\n",
    "    for protein in PROTEIN_NAMES:\n",
    "        fp = os.path.join(HYPHY_DIR, fn, f\"{fn}_{protein}.nexus.MEME.json\")\n",
    "        with open(fp) as f:\n",
    "            hyphy_meme = json.load(f)\n",
    "        content_names = hyphy_meme[\"MLE\"][\"headers\"]\n",
    "        for site, meme_res in enumerate(hyphy_meme[\"MLE\"][\"content\"][\"0\"], start=1):\n",
    "            row = {name[0]: val for name, val in zip(content_names, meme_res)}\n",
    "            row.update({\n",
    "                \"site\": site,\n",
    "                \"protein\": protein,\n",
    "                \"date\": fn\n",
    "            })\n",
    "            res.append(row)\n",
    "            \n",
    "res = pd.DataFrame.from_records(res)\n",
    "res[[\"site\", \"p-value\", \"protein\", \"date\"]].to_csv(HYPHY_RES_FILE, index=False)\n"
   ]
  },
  {
   "cell_type": "code",
   "execution_count": 3,
   "id": "7a57bdc1",
   "metadata": {},
   "outputs": [],
   "source": [
    "fubar_res = []\n",
    "\n",
    "for fn in os.listdir(HYPHY_DIR):\n",
    "    for protein in PROTEIN_NAMES:\n",
    "        fp = os.path.join(HYPHY_DIR, fn, f\"{fn}_{protein}.nexus.FUBAR.json\")\n",
    "        with open(fp) as f:\n",
    "            hyphy_meme = json.load(f)\n",
    "        content_names = hyphy_meme[\"MLE\"][\"headers\"]\n",
    "        for site, meme_res in enumerate(hyphy_meme[\"MLE\"][\"content\"][\"0\"], start=1):\n",
    "            row = {name[0]: val for name, val in zip(content_names, meme_res)}\n",
    "            row.update({\n",
    "                \"site\": site,\n",
    "                \"protein\": protein,\n",
    "                \"date\": fn\n",
    "            })\n",
    "            fubar_res.append(row)\n",
    "            \n",
    "fubar_res = pd.DataFrame.from_records(fubar_res)\n"
   ]
  },
  {
   "cell_type": "code",
   "execution_count": 4,
   "id": "0b4d985e",
   "metadata": {},
   "outputs": [],
   "source": [
    "res[\"meme\"] = res[\"p-value\"] < 0.1\n",
    "fubar_res[\"fubar\"] = fubar_res[\"Prob[alpha<beta]\"] >= 0.9"
   ]
  },
  {
   "cell_type": "code",
   "execution_count": 5,
   "id": "74a2f94b",
   "metadata": {},
   "outputs": [],
   "source": [
    "meme_fubar_comparison = pd.merge(\n",
    "    res[[\"site\", \"meme\", \"protein\", \"date\"]],\n",
    "    fubar_res[[\"site\", \"fubar\", \"protein\", \"date\"]],\n",
    "    on=(\"site\", \"protein\", \"date\")\n",
    ")\n",
    "meme_fubar_comparison = meme_fubar_comparison[meme_fubar_comparison[\"protein\"] == \"Spike\"]\n",
    "meme_fubar_comparison.to_csv(HYPHY_DIFF_FILE, index=False)\n"
   ]
  },
  {
   "cell_type": "code",
   "execution_count": 6,
   "id": "6bd15f96",
   "metadata": {},
   "outputs": [
    {
     "data": {
      "image/png": "[encoded data removed]",
      "text/plain": [
       "<Figure size 432x288 with 1 Axes>"
      ]
     },
     "metadata": {},
     "output_type": "display_data"
    }
   ],
   "source": [
    "fubar_sites = meme_fubar_comparison.loc[meme_fubar_comparison[\"fubar\"], \"site\"].unique()\n",
    "meme_sites = meme_fubar_comparison.loc[meme_fubar_comparison[\"meme\"], \"site\"].unique()\n",
    "\n",
    "venn2(\n",
    "    subsets = [set(fubar_sites), set(meme_sites)],\n",
    "    set_labels = (\"hyphy_fubar\", \"hyphy_meme\"),\n",
    "    set_colors=(\"pink\", \"teal\"),\n",
    "    alpha = 0.4\n",
    ")\n",
    "plt.savefig(HYPHY_DIFF_VENN_PLOT, bbox_inches=\"tight\")\n",
    "plt.gca().set_facecolor('white')\n",
    "plt.gca().set_axis_on()\n",
    "plt.show()\n",
    "plt.close()\n"
   ]
  }
 ],
 "metadata": {
  "interpreter": {
   "hash": "f29f8e832b8e444338a9384744ec6701cf48888df329f7cb673095b3a6e4adc7"
  },
  "kernelspec": {
   "display_name": "R",
   "language": "python",
   "name": "python3"
  },
  "language_info": {
   "codemirror_mode": {
    "name": "ipython",
    "version": 3
   },
   "file_extension": ".py",
   "mimetype": "text/x-python",
   "name": "python",
   "nbconvert_exporter": "python",
   "pygments_lexer": "ipython3",
   "version": "3.10.4"
  }
 },
 "nbformat": 4,
 "nbformat_minor": 5
}
