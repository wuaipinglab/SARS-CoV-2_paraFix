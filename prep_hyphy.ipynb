{
 "cells": [
  {
   "cell_type": "code",
   "execution_count": null,
   "id": "7bd6bfb1-2673-43fb-91f8-5f5a4a5d8b9d",
   "metadata": {},
   "outputs": [],
   "source": [
    "import os\n",
    "import copy\n",
    "import json\n",
    "from collections import defaultdict\n",
    "\n",
    "import pandas as pd\n",
    "from Bio import AlignIO, Phylo\n",
    "from Bio.Seq import Seq\n",
    "from Bio.SeqRecord import SeqRecord\n",
    "from Bio.Align import MultipleSeqAlignment\n",
    "from Bio.Nexus import Nexus, Trees\n",
    "\n",
    "\n",
    "PROTEIN_NAMES = (\"Spike\", \"N\")\n",
    "\n",
    "DATES_FILE = \"data/nextstrain_dates.json\"\n",
    "TREES_DIR = \"data/nextstrain_trees_with_MSA/\"\n",
    "\n",
    "HYPHY_DIR = \"output/nextstrain_hyphy_results/\"\n",
    "\n",
    "if not os.path.exists(HYPHY_DIR):\n",
    "    os.mkdir(HYPHY_DIR)\n"
   ]
  },
  {
   "cell_type": "code",
   "execution_count": null,
   "id": "44cf2f31-2d02-440b-bc2a-5eea2e6ac5e7",
   "metadata": {},
   "outputs": [],
   "source": [
    "sitesMapping = pd.read_csv(\"Data/sitesMapping.csv\", index_col=0)\n",
    "    \n",
    "with open(DATES_FILE) as f:\n",
    "    allDates = json.load(f)\n"
   ]
  },
  {
   "cell_type": "code",
   "execution_count": null,
   "id": "a9f284ec-1617-433e-854d-faee55f34033",
   "metadata": {},
   "outputs": [],
   "source": [
    "for protein in PROTEIN_NAMES:\n",
    "    proteinSites = sitesMapping[(sitesMapping[\"product\"] == protein) &\n",
    "                                (sitesMapping[\"aa\"] != \"*\")][\"genomePos\"].values\n",
    "    prevSite = 0\n",
    "    for site in proteinSites:\n",
    "        if site != prevSite + 1:\n",
    "            print(\"Discontinued at\", prevSite)\n",
    "        prevSite = site\n",
    "    \n",
    "    \n",
    "    matchedTreeSeq = defaultdict(dict)\n",
    "    for fn in allDates:\n",
    "        baseName = os.path.join(TREES_DIR, fn, fn)\n",
    "        matchedTreeSeq[fn][\"tree\"] = Phylo.read(baseName + \".nwk\", \"newick\")\n",
    "        matchedTreeSeq[fn][\"seq\"] = AlignIO.read(baseName + \".fasta\", \"fasta\")\n",
    "    \n",
    "    \n",
    "    for d in matchedTreeSeq:\n",
    "        outNexus = Nexus.Nexus()\n",
    "        toRemove = []\n",
    "        for record in matchedTreeSeq[d][\"seq\"][:, (proteinSites[0] - 1):proteinSites[-1]]:\n",
    "            record = SeqRecord(\n",
    "                Seq(str(record.seq).replace(\"-\", \"n\")),\n",
    "                id=record.id,\n",
    "                description=\"\"\n",
    "            )\n",
    "            if \"*\" in str(record.translate().seq):\n",
    "                toRemove.append(record.id)\n",
    "            else:\n",
    "                outNexus.add_sequence(record.id, record.seq.upper())\n",
    "        tree = copy.deepcopy(matchedTreeSeq[d][\"tree\"])\n",
    "        for ac in toRemove:\n",
    "            ac = tree.find_any(ac)\n",
    "            tree.prune(ac)\n",
    "            \n",
    "        for tip in tree.get_terminals():\n",
    "            if tip.name is None:\n",
    "                tree.prune(tip)\n",
    "                \n",
    "        outNexus.trees.append(Trees.Tree(tree.format(\"newick\")))\n",
    "        \n",
    "        outDir = os.path.join(HYPHY_DIR, d)\n",
    "        if not os.path.exists(outDir):\n",
    "            os.mkdir(outDir)\n",
    "        outFileName = os.path.join(outDir, d + \"_\" + protein + \".nexus\")\n",
    "        outNexus.write_nexus_data(outFileName)\n",
    "        with open(outFileName, \"a\") as f:\n",
    "            f.write(\"begin trees;\\n\")\n",
    "            f.write(str(outNexus.trees[0]))\n",
    "            f.write(\"\\nend;\\n\")\n"
   ]
  }
 ],
 "metadata": {
  "kernelspec": {
   "display_name": "Python 3 (ipykernel)",
   "language": "python",
   "name": "python3"
  },
  "language_info": {
   "codemirror_mode": {
    "name": "ipython",
    "version": 3
   },
   "file_extension": ".py",
   "mimetype": "text/x-python",
   "name": "python",
   "nbconvert_exporter": "python",
   "pygments_lexer": "ipython3",
   "version": "3.9.10"
  }
 },
 "nbformat": 4,
 "nbformat_minor": 5
}
