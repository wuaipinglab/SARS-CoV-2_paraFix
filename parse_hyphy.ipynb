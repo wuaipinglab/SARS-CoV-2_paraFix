{
 "cells": [
  {
   "cell_type": "code",
   "execution_count": 11,
   "id": "a132fdf5",
   "metadata": {},
   "outputs": [],
   "source": [
    "import os\n",
    "import json\n",
    "\n",
    "import pandas as pd\n",
    "\n",
    "PROTEIN_NAMES = (\"Spike\", \"N\")\n",
    "\n",
    "HYPHY_DIR = \"output/nextstrain_hyphy_results/\"\n",
    "HYPHY_RES_FILE = \"output/nextstrain_hyphy_results.csv\"\n"
   ]
  },
  {
   "cell_type": "code",
   "execution_count": 12,
   "id": "c25b8113",
   "metadata": {},
   "outputs": [],
   "source": [
    "res = []\n",
    "\n",
    "for fn in os.listdir(HYPHY_DIR):\n",
    "    for protein in PROTEIN_NAMES:\n",
    "        fp = os.path.join(HYPHY_DIR, fn, f\"{fn}_{protein}.nexus.MEME.json\")\n",
    "        with open(fp) as f:\n",
    "            hyphy_meme = json.load(f)\n",
    "        content_names = hyphy_meme[\"MLE\"][\"headers\"]\n",
    "        for site, meme_res in enumerate(hyphy_meme[\"MLE\"][\"content\"][\"0\"], start=1):\n",
    "            row = {name[0]: val for name, val in zip(content_names, meme_res)}\n",
    "            row.update({\n",
    "                \"site\": site,\n",
    "                \"protein\": protein,\n",
    "                \"date\": fn\n",
    "            })\n",
    "            res.append(row)\n",
    "            \n",
    "res = pd.DataFrame.from_records(res)\n",
    "res[[\"site\", \"p-value\", \"protein\", \"date\"]].to_csv(HYPHY_RES_FILE, index=False)\n"
   ]
  }
 ],
 "metadata": {
  "interpreter": {
   "hash": "f29f8e832b8e444338a9384744ec6701cf48888df329f7cb673095b3a6e4adc7"
  },
  "kernelspec": {
   "display_name": "R",
   "language": "python",
   "name": "python3"
  },
  "language_info": {
   "codemirror_mode": {
    "name": "ipython",
    "version": 3
   },
   "file_extension": ".py",
   "mimetype": "text/x-python",
   "name": "python",
   "nbconvert_exporter": "python",
   "pygments_lexer": "ipython3",
   "version": "3.10.4"
  }
 },
 "nbformat": 4,
 "nbformat_minor": 5
}
