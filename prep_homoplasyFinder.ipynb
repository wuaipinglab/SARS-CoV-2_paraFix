{
 "cells": [
  {
   "cell_type": "code",
   "execution_count": null,
   "id": "e6ae94ff-e292-4695-aa5a-bd17321e9e1b",
   "metadata": {},
   "outputs": [],
   "source": [
    "import os\n",
    "import copy\n",
    "import json\n",
    "from collections import defaultdict\n",
    "\n",
    "import pandas as pd\n",
    "from Bio import AlignIO, Phylo\n",
    "from Bio.Align import MultipleSeqAlignment\n",
    "\n",
    "\n",
    "TREES_DIR = \"data/nextstrain_trees_with_MSA/\"\n",
    "SITESMAPPING_DIR = \"data/sitesMapping.csv\"\n",
    "DATES_FILE = \"data/nextstrain_dates.json\"\n",
    "\n",
    "HOMOPLASYFINDER_DIR = \"output/nextstrain_homoplasyFinder_results\"\n",
    "\n",
    "if not os.path.exists(HOMOPLASYFINDER_DIR):\n",
    "    os.mkdir(HOMOPLASYFINDER_DIR)\n"
   ]
  },
  {
   "cell_type": "code",
   "execution_count": null,
   "id": "6b8fc23b-f0d3-4e29-915f-439d0b32b922",
   "metadata": {},
   "outputs": [],
   "source": [
    "sitesMapping = pd.read_csv(SITESMAPPING_DIR, index_col=0)\n",
    "\n",
    "with open(DATES_FILE) as f:\n",
    "    allDates = json.load(f)\n"
   ]
  },
  {
   "cell_type": "code",
   "execution_count": null,
   "id": "8470f3db-3417-4114-bf47-52f852d8769e",
   "metadata": {},
   "outputs": [],
   "source": [
    "matchedTreeSeq = defaultdict(dict)\n",
    "for fn in allDates:\n",
    "    baseName = os.path.join(TREES_DIR, fn, fn)\n",
    "    matchedTreeSeq[fn][\"tree\"] = Phylo.read(baseName + \".nwk\", \"newick\")\n",
    "    matchedTreeSeq[fn][\"seq\"] = AlignIO.read(baseName + \".fasta\", \"fasta\")\n",
    "\n",
    "\n",
    "for d in matchedTreeSeq:\n",
    "    outSeqs = []\n",
    "    toRemove = []\n",
    "    for record in matchedTreeSeq[d][\"seq\"]:\n",
    "        # record2 = SeqRecord(\n",
    "        #     Seq(str(record.seq).replace(\"-\", \"N\")),\n",
    "        #     id=record.id,\n",
    "        #     description=\"\"\n",
    "        # )\n",
    "        outSeqs.append(record)\n",
    "    \n",
    "    print(toRemove)\n",
    "    outDir = os.path.join(HOMOPLASYFINDER_DIR, d)\n",
    "    if not os.path.exists(outDir):\n",
    "        os.mkdir(outDir)\n",
    "    AlignIO.write(\n",
    "        MultipleSeqAlignment(outSeqs),\n",
    "        os.path.join(outDir, d + \"_genome.fasta\"),\n",
    "        \"fasta\"\n",
    "    )\n",
    "    tree = copy.deepcopy(matchedTreeSeq[d][\"tree\"])\n",
    "    for ac in toRemove:\n",
    "        ac = tree.find_any(ac)\n",
    "        tree.prune(ac)\n",
    "        \n",
    "    for tip in tree.get_terminals():\n",
    "        if tip.name is None:\n",
    "            tree.prune(tip)\n",
    "            \n",
    "    Phylo.write(\n",
    "        tree,\n",
    "        os.path.join(outDir, d + \"_genome.newick\"),\n",
    "        \"newick\"\n",
    "    )"
   ]
  }
 ],
 "metadata": {
  "kernelspec": {
   "display_name": "Python 3 (ipykernel)",
   "language": "python",
   "name": "python3"
  },
  "language_info": {
   "codemirror_mode": {
    "name": "ipython",
    "version": 3
   },
   "file_extension": ".py",
   "mimetype": "text/x-python",
   "name": "python",
   "nbconvert_exporter": "python",
   "pygments_lexer": "ipython3",
   "version": "3.9.10"
  }
 },
 "nbformat": 4,
 "nbformat_minor": 5
}
